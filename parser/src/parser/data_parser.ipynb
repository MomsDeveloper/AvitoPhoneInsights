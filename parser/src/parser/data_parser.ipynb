{
 "cells": [
  {
   "cell_type": "markdown",
   "metadata": {},
   "source": [
    "### Парсинг телефонов с Авито"
   ]
  },
  {
   "cell_type": "code",
   "execution_count": 8,
   "metadata": {},
   "outputs": [],
   "source": [
    "import sys\n",
    "sys.path.append('../..')\n"
   ]
  },
  {
   "cell_type": "code",
   "execution_count": 9,
   "metadata": {},
   "outputs": [],
   "source": [
    "import time\n",
    "\n",
    "from bs4 import BeautifulSoup\n",
    "from selenium import webdriver\n",
    "from selenium.common.exceptions import TimeoutException\n",
    "from selenium.webdriver.chrome.service import Service\n",
    "from tqdm import tqdm\n",
    "from kafka import KafkaProducer\n",
    "import psycopg2\n",
    "import json\n",
    "from selenium_stealth import stealth\n",
    "from webdriver_manager.chrome import ChromeDriverManager\n",
    "import random\n",
    "\n",
    "from src.parser.models import Product, Seller\n",
    "from src.parser.parser import parse_avito_page\n",
    "from src.parser.tools import get_ad_urls"
   ]
  },
  {
   "cell_type": "markdown",
   "metadata": {},
   "source": [
    "### Константы"
   ]
  },
  {
   "cell_type": "code",
   "execution_count": 10,
   "metadata": {},
   "outputs": [],
   "source": [
    "URL_TEMPLATE = \"https://www.avito.ru/sankt-peterburg/telefony/mobilnye_telefony/apple-ASgBAgICAkS0wA3OqzmwwQ2I_Dc?p=\"\n",
    "NUM_PAGES = 10\n",
    "\n",
    "producer = KafkaProducer(\n",
    "    bootstrap_servers=\"localhost:9092\",\n",
    "    value_serializer=lambda v: json.dumps(v).encode(\"utf-8\")\n",
    ")\n",
    "\n",
    "def send_phone(data):\n",
    "    producer.send(\"phone_listings\", value=data)\n",
    "    producer.flush()\n",
    "\n",
    "def send_seller(data):\n",
    "    producer.send(\"seller_listings\", value=data)\n",
    "    producer.flush()\n",
    "\n",
    "\n",
    "# списки существующих ключей для того, чтобы лишний раз \n",
    "# не добавлять объявление/ продавца в  таблицу\n",
    "conn = psycopg2.connect(\"dbname=mydatabase user=myuser password=mypassword host=localhost port=5432\")\n",
    "cursor = conn.cursor()\n",
    "\n",
    "cursor.execute(\"SELECT link FROM product\")\n",
    "product_ids = [row[0] for row in cursor.fetchall()]\n",
    "\n",
    "cursor.execute(\"SELECT seller_id FROM seller\")\n",
    "seller_ids = [row[0] for row in cursor.fetchall()]\n",
    "\n",
    "cursor.close()\n",
    "conn.close()"
   ]
  },
  {
   "cell_type": "markdown",
   "metadata": {},
   "source": [
    "### Запуск сервиса"
   ]
  },
  {
   "cell_type": "code",
   "execution_count": 11,
   "metadata": {},
   "outputs": [],
   "source": [
    "service = Service(ChromeDriverManager().install())\n",
    "\n",
    "options = webdriver.ChromeOptions()\n",
    "# options.add_argument('--headless')\n",
    "driver = webdriver.Chrome(service=service, options=options)\n",
    "stealth(driver,\n",
    "        languages=[\"en-US\", \"en\"],\n",
    "        vendor=\"Google Inc.\",\n",
    "        platform=\"Win32\",\n",
    "        webgl_vendor=\"Intel Inc.\",\n",
    "        renderer=\"Intel Iris OpenGL Engine\",\n",
    "        fix_hairline=True,\n",
    "        )"
   ]
  },
  {
   "cell_type": "markdown",
   "metadata": {},
   "source": [
    "### Максимальный номер сохраненной страницы  "
   ]
  },
  {
   "cell_type": "code",
   "execution_count": 12,
   "metadata": {},
   "outputs": [
    {
     "name": "stdout",
     "output_type": "stream",
     "text": [
      "Начнем парсинг со страницы номер: 0 (вкл)\n",
      "Закончим парсинг на странице номер: 10 (не вкл)\n"
     ]
    }
   ],
   "source": [
    "start_page_number = 0\n",
    "end_page_number = start_page_number + NUM_PAGES\n",
    "\n",
    "print(f\"Начнем парсинг со страницы номер: {start_page_number} (вкл)\")\n",
    "print(f\"Закончим парсинг на странице номер: {end_page_number} (не вкл)\")"
   ]
  },
  {
   "cell_type": "markdown",
   "metadata": {},
   "source": [
    "### Парсинг"
   ]
  },
  {
   "cell_type": "code",
   "execution_count": 13,
   "metadata": {},
   "outputs": [
    {
     "name": "stdout",
     "output_type": "stream",
     "text": [
      "Начали парсинг страницы # 0\n"
     ]
    },
    {
     "name": "stderr",
     "output_type": "stream",
     "text": [
      "0it [00:00, ?it/s]\n"
     ]
    },
    {
     "name": "stdout",
     "output_type": "stream",
     "text": [
      "Начали парсинг страницы # 1\n"
     ]
    },
    {
     "name": "stderr",
     "output_type": "stream",
     "text": [
      "  0%|          | 0/82 [00:00<?, ?it/s]"
     ]
    },
    {
     "name": "stdout",
     "output_type": "stream",
     "text": [
      "Error parsing product: 'NoneType' object has no attribute 'find_next_sibling'\n",
      "Error parsing product: 'NoneType' object has no attribute 'find_next_sibling'\n",
      "Error parsing product: 'NoneType' object has no attribute 'find_next_sibling'\n",
      "Error parsing product: 'NoneType' object has no attribute 'find_next_sibling'\n",
      "Error parsing product: 'NoneType' object has no attribute 'find_next_sibling'\n",
      "Error parsing product: 'NoneType' object has no attribute 'find_next_sibling'\n",
      "Error parsing product: 'NoneType' object has no attribute 'find_next_sibling'\n",
      "Error parsing product: 'NoneType' object has no attribute 'find_next_sibling'\n",
      "Error parsing product: 'NoneType' object has no attribute 'find_next_sibling'\n",
      "Error parsing product: 'NoneType' object has no attribute 'find_next_sibling'\n",
      "Error parsing product: 'NoneType' object has no attribute 'find_next_sibling'\n",
      "Error parsing product: 'NoneType' object has no attribute 'find_next_sibling'\n"
     ]
    },
    {
     "name": "stderr",
     "output_type": "stream",
     "text": [
      "  7%|▋         | 6/82 [00:13<02:47,  2.21s/it]"
     ]
    },
    {
     "name": "stdout",
     "output_type": "stream",
     "text": [
      "Error parsing product: 'NoneType' object has no attribute 'find_next_sibling'\n",
      "Error parsing product: 'NoneType' object has no attribute 'find_next_sibling'\n",
      "Error parsing product: 'NoneType' object has no attribute 'find_next_sibling'\n",
      "Error parsing product: 'NoneType' object has no attribute 'find_next_sibling'\n",
      "Error parsing product: 'NoneType' object has no attribute 'find_next_sibling'\n",
      "Error parsing product: 'NoneType' object has no attribute 'find_next_sibling'\n",
      "Error parsing product: 'NoneType' object has no attribute 'find_next_sibling'\n",
      "Error parsing product: 'NoneType' object has no attribute 'find_next_sibling'\n",
      "Error parsing product: 'NoneType' object has no attribute 'find_next_sibling'\n",
      "Error parsing product: 'NoneType' object has no attribute 'find_next_sibling'\n",
      "Error parsing product: 'NoneType' object has no attribute 'find_next_sibling'\n",
      "Error parsing product: 'NoneType' object has no attribute 'find_next_sibling'\n",
      "Error parsing product: 'NoneType' object has no attribute 'find_next_sibling'\n",
      "Error parsing product: 'NoneType' object has no attribute 'find_next_sibling'\n",
      "Error parsing product: 'NoneType' object has no attribute 'find_next_sibling'\n",
      "Error parsing product: 'NoneType' object has no attribute 'find_next_sibling'\n",
      "Error parsing product: 'NoneType' object has no attribute 'find_next_sibling'\n",
      "Error parsing product: 'NoneType' object has no attribute 'find_next_sibling'\n",
      "Error parsing product: 'NoneType' object has no attribute 'find_next_sibling'\n",
      "Error parsing product: 'NoneType' object has no attribute 'find_next_sibling'\n",
      "Error parsing product: 'NoneType' object has no attribute 'find_next_sibling'\n",
      "Error parsing product: 'NoneType' object has no attribute 'find_next_sibling'\n",
      "Error parsing product: 'NoneType' object has no attribute 'find_next_sibling'\n",
      "Error parsing product: 'NoneType' object has no attribute 'find_next_sibling'\n"
     ]
    },
    {
     "name": "stderr",
     "output_type": "stream",
     "text": [
      " 12%|█▏        | 10/82 [00:23<02:49,  2.35s/it]"
     ]
    },
    {
     "name": "stdout",
     "output_type": "stream",
     "text": [
      "Error parsing product: 'NoneType' object has no attribute 'find_next_sibling'\n",
      "Error parsing product: 'NoneType' object has no attribute 'find_next_sibling'\n",
      "Error parsing product: 'NoneType' object has no attribute 'find_next_sibling'\n",
      "Error parsing product: 'NoneType' object has no attribute 'find_next_sibling'\n",
      "Error parsing product: 'NoneType' object has no attribute 'find_next_sibling'\n",
      "Error parsing product: 'NoneType' object has no attribute 'find_next_sibling'\n",
      "Error parsing product: 'NoneType' object has no attribute 'find_next_sibling'\n",
      "Error parsing product: 'NoneType' object has no attribute 'find_next_sibling'\n",
      "Error parsing product: 'NoneType' object has no attribute 'find_next_sibling'\n",
      "Error parsing product: 'NoneType' object has no attribute 'find_next_sibling'\n",
      "Error parsing product: 'NoneType' object has no attribute 'find_next_sibling'\n",
      "Error parsing product: 'NoneType' object has no attribute 'find_next_sibling'\n"
     ]
    },
    {
     "name": "stderr",
     "output_type": "stream",
     "text": [
      " 21%|██        | 17/82 [00:28<01:48,  1.67s/it]\n"
     ]
    },
    {
     "ename": "KeyboardInterrupt",
     "evalue": "",
     "output_type": "error",
     "traceback": [
      "\u001b[31m---------------------------------------------------------------------------\u001b[39m",
      "\u001b[31mKeyboardInterrupt\u001b[39m                         Traceback (most recent call last)",
      "\u001b[36mCell\u001b[39m\u001b[36m \u001b[39m\u001b[32mIn[13]\u001b[39m\u001b[32m, line 25\u001b[39m\n\u001b[32m     22\u001b[39m time.sleep(random.randint(\u001b[32m2\u001b[39m, \u001b[32m5\u001b[39m))\n\u001b[32m     24\u001b[39m \u001b[38;5;66;03m# Парсим данные на странице объявления (название, цена, фото, описание и т.д.)\u001b[39;00m\n\u001b[32m---> \u001b[39m\u001b[32m25\u001b[39m ad_data, seller_data, done_deals_data = \u001b[43mparse_avito_page\u001b[49m\u001b[43m(\u001b[49m\u001b[43mdriver\u001b[49m\u001b[43m=\u001b[49m\u001b[43mdriver\u001b[49m\u001b[43m)\u001b[49m \u001b[38;5;66;03m# <- словарик \u001b[39;00m\n\u001b[32m     26\u001b[39m ad_data[\u001b[33m'\u001b[39m\u001b[33mlink\u001b[39m\u001b[33m'\u001b[39m] = prepared_link\n\u001b[32m     28\u001b[39m \u001b[38;5;66;03m# валидация используя Pydantic\u001b[39;00m\n",
      "\u001b[36mFile \u001b[39m\u001b[32m~/Desktop/AvitoPhoneInsights/parser/src/parser/../../src/parser/parser.py:105\u001b[39m, in \u001b[36mparse_avito_page\u001b[39m\u001b[34m(driver)\u001b[39m\n\u001b[32m    103\u001b[39m driver.get(seller_link)\n\u001b[32m    104\u001b[39m time.sleep(PAUSE_DURATION_SECONDS)\n\u001b[32m--> \u001b[39m\u001b[32m105\u001b[39m seller_data, done_deals_list = \u001b[43mparse_seller_page\u001b[49m\u001b[43m(\u001b[49m\u001b[43mdriver\u001b[49m\u001b[43m)\u001b[49m\n\u001b[32m    106\u001b[39m seller_id = re.search(\u001b[33mr\u001b[39m\u001b[33m'\u001b[39m\u001b[33m\\\u001b[39m\u001b[33m/brands\u001b[39m\u001b[33m\\\u001b[39m\u001b[33m/\u001b[39m\u001b[33m\\\u001b[39m\u001b[33mw+\u001b[39m\u001b[33m'\u001b[39m, seller_link).group()\n\u001b[32m    107\u001b[39m seller_data[\u001b[33m'\u001b[39m\u001b[33mseller_id\u001b[39m\u001b[33m'\u001b[39m] = seller_id \n",
      "\u001b[36mFile \u001b[39m\u001b[32m~/Desktop/AvitoPhoneInsights/parser/src/parser/../../src/parser/parser.py:152\u001b[39m, in \u001b[36mparse_seller_page\u001b[39m\u001b[34m(driver)\u001b[39m\n\u001b[32m    150\u001b[39m     show_more_button = driver.find_element(By.XPATH, \u001b[33m\"\u001b[39m\u001b[33m//p[text()=\u001b[39m\u001b[33m'\u001b[39m\u001b[33mПоказать все\u001b[39m\u001b[33m'\u001b[39m\u001b[33m]\u001b[39m\u001b[33m\"\u001b[39m)\n\u001b[32m    151\u001b[39m     show_more_button.click()\n\u001b[32m--> \u001b[39m\u001b[32m152\u001b[39m     \u001b[43mtime\u001b[49m\u001b[43m.\u001b[49m\u001b[43msleep\u001b[49m\u001b[43m(\u001b[49m\u001b[43mPAUSE_DURATION_SECONDS\u001b[49m\u001b[43m)\u001b[49m\n\u001b[32m    153\u001b[39m \u001b[38;5;28;01mexcept\u001b[39;00m \u001b[38;5;167;01mException\u001b[39;00m:\n\u001b[32m    154\u001b[39m     \u001b[38;5;28;01mpass\u001b[39;00m\n",
      "\u001b[31mKeyboardInterrupt\u001b[39m: "
     ]
    }
   ],
   "source": [
    "for page_num in range(start_page_number, end_page_number):\n",
    "    print(f\"Начали парсинг страницы # {page_num}\")\n",
    "    try:\n",
    "        # Загрузка страницы с объявлениями\n",
    "        url = URL_TEMPLATE + str(page_num)\n",
    "        driver.get(url)\n",
    "        time.sleep(random.randint(2, 5))\n",
    "\n",
    "        # Получаем HTML-код страницы\n",
    "        page_source = driver.page_source\n",
    "        soup = BeautifulSoup(page_source, 'html.parser')\n",
    "  \n",
    "        # Извлекаем ссылки на объявления на текущей странице\n",
    "        links = get_ad_urls(soup)\n",
    "        for link in tqdm(links):\n",
    "            prepared_link = link.split('?')[0]\n",
    "            if prepared_link in product_ids:\n",
    "                continue\n",
    "            try:\n",
    "                # Переход на страницу объявления\n",
    "                driver.get(link)\n",
    "                time.sleep(random.randint(2, 5))\n",
    "\n",
    "                # Парсим данные на странице объявления (название, цена, фото, описание и т.д.)\n",
    "                ad_data, seller_data, done_deals_data = parse_avito_page(driver=driver) # <- словарик \n",
    "                ad_data['link'] = prepared_link\n",
    "\n",
    "                # валидация используя Pydantic\n",
    "                product = Product.model_validate(ad_data)\n",
    "                seller = Seller.model_validate(seller_data)\n",
    "\n",
    "                if ad_data['link'] in product_ids:\n",
    "                    continue\n",
    "                \n",
    "                product_ids.append(prepared_link)\n",
    "                send_phone(product.model_dump())\n",
    "                # проверка на отсутствие продавца в таблице\n",
    "                if seller_data['seller_id'] not in seller_ids:\n",
    "                    seller_ids.append(seller_data['seller_id'])\n",
    "                    send_seller(seller.model_dump())\n",
    "\n",
    "                    done_deals_list = [Product.model_validate(deal) for deal in done_deals_data]\n",
    "                    for deal in done_deals_list:\n",
    "                        send_phone(deal.model_dump())\n",
    "            except TimeoutException:\n",
    "                print(f\"Ошибка: объявление {link} не загрузилось, пропускаем...\")\n",
    "                continue\n",
    "            except Exception as e:\n",
    "                print(f\"Произошла ошибка при обработке объявления {link}: {e}\")\n",
    "                continue\n",
    "    except TimeoutException:\n",
    "        print(f\"Ошибка: страница {page_num} не загрузилась, пропускаем...\")\n",
    "        continue\n",
    "    except Exception as e:\n",
    "        print(f\"Произошла ошибка на странице {page_num}: {e}\")\n",
    "        continue\n"
   ]
  },
  {
   "cell_type": "code",
   "execution_count": null,
   "metadata": {},
   "outputs": [],
   "source": [
    "driver.quit()"
   ]
  }
 ],
 "metadata": {
  "kernelspec": {
   "display_name": ".venv",
   "language": "python",
   "name": "python3"
  },
  "language_info": {
   "codemirror_mode": {
    "name": "ipython",
    "version": 3
   },
   "file_extension": ".py",
   "mimetype": "text/x-python",
   "name": "python",
   "nbconvert_exporter": "python",
   "pygments_lexer": "ipython3",
   "version": "3.13.2"
  }
 },
 "nbformat": 4,
 "nbformat_minor": 2
}
