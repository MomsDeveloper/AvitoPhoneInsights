{
 "cells": [
  {
   "cell_type": "markdown",
   "metadata": {},
   "source": [
    "### Парсинг телефонов с Авито"
   ]
  },
  {
   "cell_type": "code",
   "execution_count": 18,
   "metadata": {},
   "outputs": [],
   "source": [
    "import sys\n",
    "sys.path.append('../..')\n"
   ]
  },
  {
   "cell_type": "code",
   "execution_count": 19,
   "metadata": {},
   "outputs": [],
   "source": [
    "import os\n",
    "import re\n",
    "import time\n",
    "\n",
    "import pandas as pd\n",
    "from bs4 import BeautifulSoup\n",
    "from requests import Session, session\n",
    "from selenium import webdriver\n",
    "from selenium.common.exceptions import TimeoutException\n",
    "from selenium.webdriver.chrome.service import Service\n",
    "from selenium.webdriver.common.by import By\n",
    "from selenium.webdriver.support import expected_conditions as EC\n",
    "from selenium.webdriver.support.ui import WebDriverWait\n",
    "from tqdm import tqdm\n",
    "from webdriver_manager.firefox import GeckoDriverManager\n",
    "\n",
    "from src.db import ProductTable, SellerTable, SessionLocal, engine\n",
    "from src.parser.models import Product, Seller\n",
    "from src.parser.parser import parse_avito_page\n",
    "from src.parser.tools import get_ad_urls, get_photos"
   ]
  },
  {
   "cell_type": "markdown",
   "metadata": {},
   "source": [
    "### Константы"
   ]
  },
  {
   "cell_type": "code",
   "execution_count": 20,
   "metadata": {},
   "outputs": [],
   "source": [
    "URL_TEMPLATE = \"https://www.avito.ru/sankt-peterburg/telefony/mobilnye_telefony/apple-ASgBAgICAkS0wA3OqzmwwQ2I_Dc?p=\"\n",
    "PAUSE_DURATION_SECONDS = 2\n",
    "NUM_PAGES = 100\n",
    "product_columns = [\n",
    "'title', 'price', 'characteristics', \n",
    "'description', 'views', 'date',\n",
    "'location', 'link', 'seller_id', 'today_views'\n",
    ", 'about', 'is_sold'\n",
    "]\n",
    "\n",
    "seller_columns = [\n",
    "    'seller_id', 'name', 'rating', 'reviews',\n",
    "    'subscribers', 'subscriptions', 'registered', \n",
    "    'done_deals', 'active_deals', 'docs_confirmed',\n",
    "    'phone_confirmed', 'response_time'\n",
    "]\n",
    "\n",
    "db_session = SessionLocal()\n",
    "# списки существующих ключей для того, чтобы лишний раз \n",
    "# не добавлять объявление/ продавца в  таблицу\n",
    "product_ids = db_session.query(ProductTable.link).all()\n",
    "product_ids = [id[0] for id in product_ids]\n",
    "\n",
    "seller_ids = db_session.query(SellerTable.seller_id).all()\n",
    "seller_ids = [id[0] for id in seller_ids]"
   ]
  },
  {
   "cell_type": "markdown",
   "metadata": {},
   "source": [
    "### Запуск сервиса"
   ]
  },
  {
   "cell_type": "code",
   "execution_count": 21,
   "metadata": {},
   "outputs": [],
   "source": [
    "service = Service(GeckoDriverManager().install())\n",
    "# add headers\n",
    "headers = {\n",
    "    \"User-Agent\": \"Mozilla/5.0 (Windows NT 10.0; Win64; x64) AppleWebKit/537.36 (KHTML, like Gecko) Chrome/117.0.0.0 Safari/537.36\",\n",
    "    \"Accept-Language\": \"en-US,en;q=0.9\",\n",
    "    \"Accept-Encoding\": \"gzip, deflate, br\",\n",
    "}\n",
    "\n",
    "# create a new session\n",
    "session = Session()\n",
    "session.headers.update(headers)\n",
    "\n",
    "# dont open browser\n",
    "options = webdriver.FirefoxOptions()\n",
    "options.add_argument('--headless')\n",
    "driver = webdriver.Firefox(service=service, options=options)"
   ]
  },
  {
   "cell_type": "markdown",
   "metadata": {},
   "source": [
    "### Максимальный номер сохраненной страницы  "
   ]
  },
  {
   "cell_type": "code",
   "execution_count": 22,
   "metadata": {},
   "outputs": [
    {
     "name": "stdout",
     "output_type": "stream",
     "text": [
      "Максимальный номер: None\n",
      "Начнем парсинг со страницы номер: 1 (вкл)\n",
      "Закончим парсинг на странице номер: 101 (не вкл)\n"
     ]
    }
   ],
   "source": [
    "output_folder = \"data8\"\n",
    "os.makedirs(output_folder, exist_ok=True)\n",
    "\n",
    "# Получаем список всех файлов в папке\n",
    "files = os.listdir(output_folder)\n",
    "\n",
    "# Ищем файлы с расширением .csv и извлекаем числовые части\n",
    "numbers = []\n",
    "for file in files:\n",
    "    if file.endswith('.parquet'):\n",
    "        match = re.search(r'\\d+', file)\n",
    "        if match:\n",
    "            numbers.append(int(match.group()))\n",
    "\n",
    "# Находим максимальное число\n",
    "max_number = max(numbers) if numbers else None\n",
    "print(f\"Максимальный номер: {max_number}\")\n",
    "\n",
    "\n",
    "if not max_number: \n",
    "    start_page_number = 1\n",
    "else: \n",
    "    start_page_number = max_number + 1\n",
    "\n",
    "end_page_number = start_page_number + NUM_PAGES\n",
    "\n",
    "print(f\"Начнем парсинг со страницы номер: {start_page_number} (вкл)\")\n",
    "print(f\"Закончим парсинг на странице номер: {end_page_number} (не вкл)\")"
   ]
  },
  {
   "cell_type": "markdown",
   "metadata": {},
   "source": [
    "### Парсинг"
   ]
  },
  {
   "cell_type": "code",
   "execution_count": null,
   "metadata": {},
   "outputs": [
    {
     "name": "stdout",
     "output_type": "stream",
     "text": [
      "Начали парсинг страницы # 0\n",
      "Произошла ошибка на странице 0: HTTPConnectionPool(host='localhost', port=60257): Read timed out. (read timeout=120)\n",
      "Начали парсинг страницы # 1\n"
     ]
    },
    {
     "name": "stderr",
     "output_type": "stream",
     "text": [
      "  2%|▏         | 1/50 [00:07<06:01,  7.37s/it]"
     ]
    },
    {
     "name": "stdout",
     "output_type": "stream",
     "text": [
      "Произошла ошибка при обработке объявления https://www.avito.ru/sankt-peterburg/telefony/iphone_13_pro_128_gb_3646507026?context=H4sIAAAAAAAA_wEmANn_YToxOntzOjE6IngiO3M6MTY6IkxBdmZjMEYxOVgxNmY1YTIiO30lPZmRJgAAAA: Message: Move target (661, 895) is out of bounds of viewport dimensions (1366, 683)\n",
      "Stacktrace:\n",
      "RemoteError@chrome://remote/content/shared/RemoteError.sys.mjs:8:8\n",
      "WebDriverError@chrome://remote/content/shared/webdriver/Errors.sys.mjs:193:5\n",
      "MoveTargetOutOfBoundsError@chrome://remote/content/shared/webdriver/Errors.sys.mjs:479:5\n",
      "assertTargetInViewPort@chrome://remote/content/shared/webdriver/Actions.sys.mjs:3097:11\n",
      "#assertInViewPortFromContent@chrome://remote/content/marionette/actors/MarionetteCommandsChild.sys.mjs:90:17\n",
      "dispatch@chrome://remote/content/shared/webdriver/Actions.sys.mjs:1588:11\n",
      "\n"
     ]
    },
    {
     "name": "stderr",
     "output_type": "stream",
     "text": [
      "  4%|▍         | 2/50 [00:13<05:28,  6.83s/it]"
     ]
    },
    {
     "name": "stdout",
     "output_type": "stream",
     "text": [
      "Произошла ошибка при обработке объявления https://www.avito.ru/sankt-peterburg/telefony/iphone_13_pro_256_gb_3659361037?context=H4sIAAAAAAAA_wEmANn_YToxOntzOjE6IngiO3M6MTY6IkxBdmZjMEYxOVgxNmY1YTIiO30lPZmRJgAAAA: Message: Move target (660, 896) is out of bounds of viewport dimensions (1366, 683)\n",
      "Stacktrace:\n",
      "RemoteError@chrome://remote/content/shared/RemoteError.sys.mjs:8:8\n",
      "WebDriverError@chrome://remote/content/shared/webdriver/Errors.sys.mjs:193:5\n",
      "MoveTargetOutOfBoundsError@chrome://remote/content/shared/webdriver/Errors.sys.mjs:479:5\n",
      "assertTargetInViewPort@chrome://remote/content/shared/webdriver/Actions.sys.mjs:3097:11\n",
      "#assertInViewPortFromContent@chrome://remote/content/marionette/actors/MarionetteCommandsChild.sys.mjs:90:17\n",
      "dispatch@chrome://remote/content/shared/webdriver/Actions.sys.mjs:1588:11\n",
      "\n"
     ]
    },
    {
     "name": "stderr",
     "output_type": "stream",
     "text": [
      "  6%|▌         | 3/50 [00:49<12:55, 16.51s/it]\n"
     ]
    },
    {
     "ename": "KeyboardInterrupt",
     "evalue": "",
     "output_type": "error",
     "traceback": [
      "\u001b[0;31m---------------------------------------------------------------------------\u001b[0m",
      "\u001b[0;31mKeyboardInterrupt\u001b[0m                         Traceback (most recent call last)",
      "Cell \u001b[0;32mIn[23], line 30\u001b[0m\n\u001b[1;32m     27\u001b[0m time\u001b[38;5;241m.\u001b[39msleep(PAUSE_DURATION_SECONDS)  \u001b[38;5;66;03m# Задержка для полной загрузки\u001b[39;00m\n\u001b[1;32m     29\u001b[0m \u001b[38;5;66;03m# Парсим данные на странице объявления (название, цена, фото, описание и т.д.)\u001b[39;00m\n\u001b[0;32m---> 30\u001b[0m ad_data, seller_data, done_deals_data \u001b[38;5;241m=\u001b[39m \u001b[43mparse_avito_page\u001b[49m\u001b[43m(\u001b[49m\u001b[43mdriver\u001b[49m\u001b[38;5;241;43m=\u001b[39;49m\u001b[43mdriver\u001b[49m\u001b[43m)\u001b[49m \u001b[38;5;66;03m# <- словарик \u001b[39;00m\n\u001b[1;32m     31\u001b[0m ad_data[\u001b[38;5;124m'\u001b[39m\u001b[38;5;124mlink\u001b[39m\u001b[38;5;124m'\u001b[39m] \u001b[38;5;241m=\u001b[39m link\n\u001b[1;32m     32\u001b[0m \u001b[38;5;66;03m# ad_data['photo'] = get_photos(driver=driver, cnt=5)\u001b[39;00m\n\u001b[1;32m     33\u001b[0m \n\u001b[1;32m     34\u001b[0m \u001b[38;5;66;03m# валидация используя Pydantic\u001b[39;00m\n",
      "File \u001b[0;32m~/Desktop/AvitoPhoneInsights/parser/src/parser/../../src/parser/parser.py:105\u001b[0m, in \u001b[0;36mparse_avito_page\u001b[0;34m(driver)\u001b[0m\n\u001b[1;32m    103\u001b[0m driver\u001b[38;5;241m.\u001b[39mget(seller_link)\n\u001b[1;32m    104\u001b[0m time\u001b[38;5;241m.\u001b[39msleep(PAUSE_DURATION_SECONDS)\n\u001b[0;32m--> 105\u001b[0m seller_data, done_deals_list \u001b[38;5;241m=\u001b[39m \u001b[43mparse_seller_page\u001b[49m\u001b[43m(\u001b[49m\u001b[43mdriver\u001b[49m\u001b[43m)\u001b[49m\n\u001b[1;32m    106\u001b[0m seller_id \u001b[38;5;241m=\u001b[39m re\u001b[38;5;241m.\u001b[39msearch(\u001b[38;5;124mr\u001b[39m\u001b[38;5;124m'\u001b[39m\u001b[38;5;124m\\\u001b[39m\u001b[38;5;124m/brands\u001b[39m\u001b[38;5;124m\\\u001b[39m\u001b[38;5;124m/\u001b[39m\u001b[38;5;124m\\\u001b[39m\u001b[38;5;124mw+\u001b[39m\u001b[38;5;124m'\u001b[39m, seller_link)\u001b[38;5;241m.\u001b[39mgroup()\n\u001b[1;32m    107\u001b[0m seller_data[\u001b[38;5;124m'\u001b[39m\u001b[38;5;124mseller_id\u001b[39m\u001b[38;5;124m'\u001b[39m] \u001b[38;5;241m=\u001b[39m seller_id \n",
      "File \u001b[0;32m~/Desktop/AvitoPhoneInsights/parser/src/parser/../../src/parser/parser.py:237\u001b[0m, in \u001b[0;36mparse_seller_page\u001b[0;34m(driver)\u001b[0m\n\u001b[1;32m    235\u001b[0m \u001b[38;5;28;01mif\u001b[39;00m done_count \u001b[38;5;129;01mand\u001b[39;00m \u001b[38;5;28mint\u001b[39m(done_count) \u001b[38;5;241m>\u001b[39m \u001b[38;5;241m0\u001b[39m:\n\u001b[1;32m    236\u001b[0m     \u001b[38;5;28;01mfor\u001b[39;00m _ \u001b[38;5;129;01min\u001b[39;00m \u001b[38;5;28mrange\u001b[39m(\u001b[38;5;241m2\u001b[39m):\n\u001b[0;32m--> 237\u001b[0m         \u001b[43mtime\u001b[49m\u001b[38;5;241;43m.\u001b[39;49m\u001b[43msleep\u001b[49m\u001b[43m(\u001b[49m\u001b[43mPAUSE_DURATION_SECONDS\u001b[49m\u001b[43m)\u001b[49m\n\u001b[1;32m    238\u001b[0m         done_deals_list\u001b[38;5;241m.\u001b[39mextend(parse_sold_iphones(driver))\n\u001b[1;32m    239\u001b[0m         buttons \u001b[38;5;241m=\u001b[39m driver\u001b[38;5;241m.\u001b[39mfind_elements(By\u001b[38;5;241m.\u001b[39mCLASS_NAME, \u001b[38;5;124m\"\u001b[39m\u001b[38;5;124mdesktop-1iti18a\u001b[39m\u001b[38;5;124m\"\u001b[39m)[\u001b[38;5;241m1\u001b[39m]\n",
      "\u001b[0;31mKeyboardInterrupt\u001b[0m: "
     ]
    }
   ],
   "source": [
    "for page_num in range(start_page_number, end_page_number):\n",
    "    \n",
    "    print(f\"Начали парсинг страницы # {page_num}\")\n",
    "\n",
    "    df_page = pd.DataFrame(columns=product_columns)\n",
    "    df_seller = pd.DataFrame(columns=seller_columns)\n",
    "\n",
    "    try:\n",
    "        # Загрузка страницы с объявлениями\n",
    "        url = URL_TEMPLATE + str(page_num)\n",
    "        driver.get(url)\n",
    "        time.sleep(PAUSE_DURATION_SECONDS)\n",
    "\n",
    "        # Получаем HTML-код страницы\n",
    "        page_source = driver.page_source\n",
    "        soup = BeautifulSoup(page_source, 'html.parser')\n",
    "  \n",
    "        # Извлекаем ссылки на объявления на текущей странице\n",
    "        links = get_ad_urls(soup)\n",
    "\n",
    "        for link in tqdm(links):\n",
    "            if link in product_ids:\n",
    "                continue\n",
    "            try:\n",
    "                # Переход на страницу объявления\n",
    "                driver.get(link)\n",
    "                time.sleep(PAUSE_DURATION_SECONDS)  # Задержка для полной загрузки\n",
    "\n",
    "                # Парсим данные на странице объявления (название, цена, фото, описание и т.д.)\n",
    "                ad_data, seller_data, done_deals_data = parse_avito_page(driver=driver) # <- словарик \n",
    "                ad_data['link'] = link\n",
    "                # ad_data['photo'] = get_photos(driver=driver, cnt=5)\n",
    "\n",
    "                # валидация используя Pydantic\n",
    "                product = Product.model_validate(ad_data)\n",
    "                seller = Seller.model_validate(seller_data)\n",
    "\n",
    "                product_ids.append(link)\n",
    "                db_session.add(ProductTable(**product.model_dump()))\n",
    "                df_page = pd.concat([df_page, pd.DataFrame([ad_data])], ignore_index=True)\n",
    "                # проверка на отсутствие продавца в таблице\n",
    "                if seller_data['seller_id'] not in seller_ids:\n",
    "                    seller_ids.append(seller_data['seller_id'])\n",
    "                    db_session.add(SellerTable(**seller.model_dump()))\n",
    "                    df_seller = pd.concat([df_seller, pd.DataFrame([seller_data])], ignore_index=True)\n",
    "\n",
    "                    done_deals_list = [Product.model_validate(deal) for deal in done_deals_data]\n",
    "                    for deal in done_deals_list:\n",
    "                        db_session.add(ProductTable(**deal.model_dump()))\n",
    "                    for deal in done_deals_data:\n",
    "                        df_page = pd.concat([df_page, pd.DataFrame([deal])], ignore_index=True)\n",
    "                # break\n",
    "            except TimeoutException:\n",
    "                print(f\"Ошибка: объявление {link} не загрузилось, пропускаем...\")\n",
    "                continue\n",
    "            except Exception as e:\n",
    "                print(f\"Произошла ошибка при обработке объявления {link}: {e}\")\n",
    "                continue\n",
    "            db_session.commit()\n",
    "        # Сохраняем данные для текущей страницы в DataFrame\n",
    "        df_page.to_parquet(f'{output_folder}/phones_data_page_{page_num}.parquet')\n",
    "        df_seller.to_parquet(f'{output_folder}/sellers_data_page_{page_num}.parquet')\n",
    "        # break\n",
    "    except TimeoutException:\n",
    "        print(f\"Ошибка: страница {page_num} не загрузилась, пропускаем...\")\n",
    "        continue\n",
    "    except Exception as e:\n",
    "        print(f\"Произошла ошибка на странице {page_num}: {e}\")\n",
    "        continue\n",
    "\n",
    "db_session.close()\n",
    "\n"
   ]
  },
  {
   "cell_type": "code",
   "execution_count": null,
   "metadata": {},
   "outputs": [],
   "source": [
    "driver.quit()"
   ]
  },
  {
   "cell_type": "code",
   "execution_count": null,
   "metadata": {},
   "outputs": [
    {
     "name": "stdout",
     "output_type": "stream",
     "text": [
      "0\n"
     ]
    },
    {
     "ename": "IndexError",
     "evalue": "list index out of range",
     "output_type": "error",
     "traceback": [
      "\u001b[0;31m---------------------------------------------------------------------------\u001b[0m",
      "\u001b[0;31mIndexError\u001b[0m                                Traceback (most recent call last)",
      "Cell \u001b[0;32mIn[14], line 10\u001b[0m\n\u001b[1;32m      8\u001b[0m \u001b[38;5;66;03m# get parquet files in \u001b[39;00m\n\u001b[1;32m      9\u001b[0m \u001b[38;5;28mprint\u001b[39m(\u001b[38;5;28mlen\u001b[39m(data))\n\u001b[0;32m---> 10\u001b[0m \u001b[43mdata\u001b[49m\u001b[43m[\u001b[49m\u001b[38;5;241;43m0\u001b[39;49m\u001b[43m]\u001b[49m\u001b[38;5;241m.\u001b[39mhead()\n",
      "\u001b[0;31mIndexError\u001b[0m: list index out of range"
     ]
    }
   ],
   "source": [
    "# read data from parquet files\n",
    "data = []\n",
    "for file in os.listdir(output_folder):\n",
    "    if file.endswith('.parquet') and file.startswith('sellers'):\n",
    "        df = pd.read_parquet(f'{output_folder}/{file}')\n",
    "        data.append(df)\n",
    "\n",
    "# get parquet files in \n",
    "print(len(data))\n",
    "data[0].head()\n"
   ]
  },
  {
   "cell_type": "code",
   "execution_count": null,
   "metadata": {},
   "outputs": [
    {
     "name": "stdout",
     "output_type": "stream",
     "text": [
      "1\n"
     ]
    },
    {
     "data": {
      "text/html": [
       "<div>\n",
       "<style scoped>\n",
       "    .dataframe tbody tr th:only-of-type {\n",
       "        vertical-align: middle;\n",
       "    }\n",
       "\n",
       "    .dataframe tbody tr th {\n",
       "        vertical-align: top;\n",
       "    }\n",
       "\n",
       "    .dataframe thead th {\n",
       "        text-align: right;\n",
       "    }\n",
       "</style>\n",
       "<table border=\"1\" class=\"dataframe\">\n",
       "  <thead>\n",
       "    <tr style=\"text-align: right;\">\n",
       "      <th></th>\n",
       "      <th>title</th>\n",
       "      <th>price</th>\n",
       "      <th>characteristics</th>\n",
       "      <th>description</th>\n",
       "      <th>views</th>\n",
       "      <th>date</th>\n",
       "      <th>location</th>\n",
       "      <th>link</th>\n",
       "      <th>seller_id</th>\n",
       "      <th>today_views</th>\n",
       "      <th>about</th>\n",
       "      <th>is_sold</th>\n",
       "    </tr>\n",
       "  </thead>\n",
       "  <tbody>\n",
       "    <tr>\n",
       "      <th>0</th>\n",
       "      <td>iPhone 11 Pro, 256 ГБ</td>\n",
       "      <td>22990</td>\n",
       "      <td>{'Встроенная память': '256 ГБ', 'Модель': 'iPh...</td>\n",
       "      <td>📲 В пpодaжe Aрplе iРhоnе 11 Prо - oригинал</td>\n",
       "      <td>769</td>\n",
       "      <td>· 24 февраля в 20:45</td>\n",
       "      <td>Санкт-Петербург, ул. Рубинштейна, 24</td>\n",
       "      <td>https://www.avito.ru/sankt-peterburg/telefony/...</td>\n",
       "      <td>/brands/fonmart</td>\n",
       "      <td>6</td>\n",
       "      <td>{'Корпус': 'Без дефектов', 'Состояние': 'Отлич...</td>\n",
       "      <td>False</td>\n",
       "    </tr>\n",
       "  </tbody>\n",
       "</table>\n",
       "</div>"
      ],
      "text/plain": [
       "                   title  price  \\\n",
       "0  iPhone 11 Pro, 256 ГБ  22990   \n",
       "\n",
       "                                     characteristics  \\\n",
       "0  {'Встроенная память': '256 ГБ', 'Модель': 'iPh...   \n",
       "\n",
       "                                  description views                   date  \\\n",
       "0  📲 В пpодaжe Aрplе iРhоnе 11 Prо - oригинал   769   · 24 февраля в 20:45   \n",
       "\n",
       "                               location  \\\n",
       "0  Санкт-Петербург, ул. Рубинштейна, 24   \n",
       "\n",
       "                                                link        seller_id  \\\n",
       "0  https://www.avito.ru/sankt-peterburg/telefony/...  /brands/fonmart   \n",
       "\n",
       "  today_views                                              about  is_sold  \n",
       "0           6  {'Корпус': 'Без дефектов', 'Состояние': 'Отлич...    False  "
      ]
     },
     "execution_count": 13,
     "metadata": {},
     "output_type": "execute_result"
    }
   ],
   "source": [
    "data = []\n",
    "for file in os.listdir(output_folder):\n",
    "    if file.endswith('.parquet') and file.startswith('phones'):\n",
    "        df = pd.read_parquet(f'{output_folder}/{file}')\n",
    "        data.append(df)\n",
    "\n",
    "# get parquet files in \n",
    "print(len(data))\n",
    "data[0].head(10)"
   ]
  },
  {
   "cell_type": "code",
   "execution_count": null,
   "metadata": {},
   "outputs": [],
   "source": []
  }
 ],
 "metadata": {
  "kernelspec": {
   "display_name": ".venv",
   "language": "python",
   "name": "python3"
  },
  "language_info": {
   "codemirror_mode": {
    "name": "ipython",
    "version": 3
   },
   "file_extension": ".py",
   "mimetype": "text/x-python",
   "name": "python",
   "nbconvert_exporter": "python",
   "pygments_lexer": "ipython3",
   "version": "3.12.7"
  }
 },
 "nbformat": 4,
 "nbformat_minor": 2
}
