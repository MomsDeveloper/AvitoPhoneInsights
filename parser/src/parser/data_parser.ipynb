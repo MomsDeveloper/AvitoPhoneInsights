{
 "cells": [
  {
   "cell_type": "markdown",
   "metadata": {},
   "source": [
    "### Парсинг телефонов с Авито"
   ]
  },
  {
   "cell_type": "code",
   "execution_count": 23,
   "metadata": {},
   "outputs": [],
   "source": [
    "import sys\n",
    "sys.path.append('../..')\n"
   ]
  },
  {
   "cell_type": "code",
   "execution_count": 24,
   "metadata": {},
   "outputs": [],
   "source": [
    "import time\n",
    "\n",
    "from bs4 import BeautifulSoup\n",
    "from selenium import webdriver\n",
    "from selenium.common.exceptions import TimeoutException\n",
    "from selenium.webdriver.chrome.service import Service\n",
    "from tqdm import tqdm\n",
    "from webdriver_manager.firefox import GeckoDriverManager\n",
    "from kafka import KafkaProducer\n",
    "import psycopg2\n",
    "import json\n",
    "\n",
    "from src.parser.models import Product, Seller\n",
    "from src.parser.parser import parse_avito_page\n",
    "from src.parser.tools import get_ad_urls"
   ]
  },
  {
   "cell_type": "markdown",
   "metadata": {},
   "source": [
    "### Константы"
   ]
  },
  {
   "cell_type": "code",
   "execution_count": 25,
   "metadata": {},
   "outputs": [],
   "source": [
    "URL_TEMPLATE = \"https://www.avito.ru/sankt-peterburg/telefony/mobilnye_telefony/apple-ASgBAgICAkS0wA3OqzmwwQ2I_Dc?p=\"\n",
    "PAUSE_DURATION_SECONDS = 2\n",
    "NUM_PAGES = 2\n",
    "\n",
    "producer = KafkaProducer(\n",
    "    bootstrap_servers=\"localhost:9092\",\n",
    "    value_serializer=lambda v: json.dumps(v).encode(\"utf-8\")\n",
    ")\n",
    "\n",
    "def send_phone(data):\n",
    "    producer.send(\"phone_listings\", value=data)\n",
    "    producer.flush()\n",
    "\n",
    "def send_seller(data):\n",
    "    producer.send(\"seller_listings\", value=data)\n",
    "    producer.flush()\n",
    "\n",
    "\n",
    "# списки существующих ключей для того, чтобы лишний раз \n",
    "# не добавлять объявление/ продавца в  таблицу\n",
    "conn = psycopg2.connect(\"dbname=mydatabase user=myuser password=mypassword host=localhost port=5432\")\n",
    "cursor = conn.cursor()\n",
    "\n",
    "cursor.execute(\"SELECT link FROM product\")\n",
    "product_ids = [row[0] for row in cursor.fetchall()]\n",
    "\n",
    "cursor.execute(\"SELECT seller_id FROM seller\")\n",
    "seller_ids = [row[0] for row in cursor.fetchall()]\n",
    "\n",
    "cursor.close()\n",
    "conn.close()"
   ]
  },
  {
   "cell_type": "markdown",
   "metadata": {},
   "source": [
    "### Запуск сервиса"
   ]
  },
  {
   "cell_type": "code",
   "execution_count": 26,
   "metadata": {},
   "outputs": [],
   "source": [
    "service = Service(GeckoDriverManager().install())\n",
    "# add headers\n",
    "# headers = {\n",
    "#     \"User-Agent\": \"Mozilla/5.0 (Windows NT 10.0; Win64; x64) AppleWebKit/537.36 (KHTML, like Gecko) Chrome/117.0.0.0 Safari/537.36\",\n",
    "#     \"Accept-Language\": \"en-US,en;q=0.9\",\n",
    "#     \"Accept-Encoding\": \"gzip, deflate, br\",\n",
    "# }\n",
    "\n",
    "# create a new session\n",
    "# session = Session()\n",
    "# session.headers.update(headers)\n",
    "\n",
    "# dont open browser\n",
    "options = webdriver.FirefoxOptions()\n",
    "# options.add_argument('--headless')\n",
    "driver = webdriver.Firefox(service=service, options=options)"
   ]
  },
  {
   "cell_type": "markdown",
   "metadata": {},
   "source": [
    "### Максимальный номер сохраненной страницы  "
   ]
  },
  {
   "cell_type": "code",
   "execution_count": 27,
   "metadata": {},
   "outputs": [
    {
     "name": "stdout",
     "output_type": "stream",
     "text": [
      "Начнем парсинг со страницы номер: 1 (вкл)\n",
      "Закончим парсинг на странице номер: 3 (не вкл)\n"
     ]
    }
   ],
   "source": [
    "start_page_number = 1\n",
    "end_page_number = start_page_number + NUM_PAGES\n",
    "\n",
    "print(f\"Начнем парсинг со страницы номер: {start_page_number} (вкл)\")\n",
    "print(f\"Закончим парсинг на странице номер: {end_page_number} (не вкл)\")"
   ]
  },
  {
   "cell_type": "markdown",
   "metadata": {},
   "source": [
    "### Парсинг"
   ]
  },
  {
   "cell_type": "code",
   "execution_count": 28,
   "metadata": {},
   "outputs": [
    {
     "name": "stdout",
     "output_type": "stream",
     "text": [
      "Начали парсинг страницы # 1\n"
     ]
    },
    {
     "name": "stderr",
     "output_type": "stream",
     "text": [
      " 60%|██████    | 30/50 [07:25<04:57, 14.85s/it]\n"
     ]
    },
    {
     "ename": "KeyboardInterrupt",
     "evalue": "",
     "output_type": "error",
     "traceback": [
      "\u001b[31m---------------------------------------------------------------------------\u001b[39m",
      "\u001b[31mKeyboardInterrupt\u001b[39m                         Traceback (most recent call last)",
      "\u001b[36mCell\u001b[39m\u001b[36m \u001b[39m\u001b[32mIn[28]\u001b[39m\u001b[32m, line 23\u001b[39m\n\u001b[32m     20\u001b[39m \u001b[38;5;28;01mtry\u001b[39;00m:\n\u001b[32m     21\u001b[39m     \u001b[38;5;66;03m# Переход на страницу объявления\u001b[39;00m\n\u001b[32m     22\u001b[39m     driver.get(link)\n\u001b[32m---> \u001b[39m\u001b[32m23\u001b[39m     \u001b[43mtime\u001b[49m\u001b[43m.\u001b[49m\u001b[43msleep\u001b[49m\u001b[43m(\u001b[49m\u001b[43mPAUSE_DURATION_SECONDS\u001b[49m\u001b[43m)\u001b[49m  \u001b[38;5;66;03m# Задержка для полной загрузки\u001b[39;00m\n\u001b[32m     25\u001b[39m     \u001b[38;5;66;03m# Парсим данные на странице объявления (название, цена, фото, описание и т.д.)\u001b[39;00m\n\u001b[32m     26\u001b[39m     ad_data, seller_data, done_deals_data = parse_avito_page(driver=driver) \u001b[38;5;66;03m# <- словарик \u001b[39;00m\n",
      "\u001b[31mKeyboardInterrupt\u001b[39m: "
     ]
    }
   ],
   "source": [
    "for page_num in range(start_page_number, end_page_number):\n",
    "    \n",
    "    print(f\"Начали парсинг страницы # {page_num}\")\n",
    "\n",
    "    try:\n",
    "        # Загрузка страницы с объявлениями\n",
    "        url = URL_TEMPLATE + str(page_num)\n",
    "        driver.get(url)\n",
    "        time.sleep(PAUSE_DURATION_SECONDS)\n",
    "\n",
    "        # Получаем HTML-код страницы\n",
    "        page_source = driver.page_source\n",
    "        soup = BeautifulSoup(page_source, 'html.parser')\n",
    "  \n",
    "        # Извлекаем ссылки на объявления на текущей странице\n",
    "        links = get_ad_urls(soup)\n",
    "        for link in tqdm(links):\n",
    "            if link in product_ids:\n",
    "                continue\n",
    "            try:\n",
    "                # Переход на страницу объявления\n",
    "                driver.get(link)\n",
    "                time.sleep(PAUSE_DURATION_SECONDS)  # Задержка для полной загрузки\n",
    "\n",
    "                # Парсим данные на странице объявления (название, цена, фото, описание и т.д.)\n",
    "                ad_data, seller_data, done_deals_data = parse_avito_page(driver=driver) # <- словарик \n",
    "                ad_data['link'] = link\n",
    "\n",
    "                # валидация используя Pydantic\n",
    "                product = Product.model_validate(ad_data)\n",
    "                seller = Seller.model_validate(seller_data)\n",
    "\n",
    "                if ad_data['link'] in product_ids:\n",
    "                    continue\n",
    "                \n",
    "                product_ids.append(link)\n",
    "                send_phone(product.model_dump())\n",
    "                # проверка на отсутствие продавца в таблице\n",
    "                if seller_data['seller_id'] not in seller_ids:\n",
    "                    seller_ids.append(seller_data['seller_id'])\n",
    "                    send_seller(seller.model_dump())\n",
    "\n",
    "                    done_deals_list = [Product.model_validate(deal) for deal in done_deals_data]\n",
    "                    for deal in done_deals_list:\n",
    "                        send_phone(deal.model_dump())\n",
    "            except TimeoutException:\n",
    "                print(f\"Ошибка: объявление {link} не загрузилось, пропускаем...\")\n",
    "                continue\n",
    "            except Exception as e:\n",
    "                print(f\"Произошла ошибка при обработке объявления {link}: {e}\")\n",
    "                continue\n",
    "    except TimeoutException:\n",
    "        print(f\"Ошибка: страница {page_num} не загрузилась, пропускаем...\")\n",
    "        continue\n",
    "    except Exception as e:\n",
    "        print(f\"Произошла ошибка на странице {page_num}: {e}\")\n",
    "        continue\n"
   ]
  },
  {
   "cell_type": "code",
   "execution_count": null,
   "metadata": {},
   "outputs": [],
   "source": [
    "driver.quit()"
   ]
  }
 ],
 "metadata": {
  "kernelspec": {
   "display_name": ".venv",
   "language": "python",
   "name": "python3"
  },
  "language_info": {
   "codemirror_mode": {
    "name": "ipython",
    "version": 3
   },
   "file_extension": ".py",
   "mimetype": "text/x-python",
   "name": "python",
   "nbconvert_exporter": "python",
   "pygments_lexer": "ipython3",
   "version": "3.13.2"
  }
 },
 "nbformat": 4,
 "nbformat_minor": 2
}
