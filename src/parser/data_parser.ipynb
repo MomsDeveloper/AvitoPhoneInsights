{
 "cells": [
  {
   "cell_type": "markdown",
   "metadata": {},
   "source": [
    "### Парсинг телефонов с Авито"
   ]
  },
  {
   "cell_type": "code",
   "execution_count": 13,
   "metadata": {},
   "outputs": [],
   "source": [
    "import sys\n",
    "sys.path.append('../..')\n"
   ]
  },
  {
   "cell_type": "code",
   "execution_count": 14,
   "metadata": {},
   "outputs": [],
   "source": [
    "import os\n",
    "import re\n",
    "import time\n",
    "\n",
    "import pandas as pd\n",
    "from bs4 import BeautifulSoup\n",
    "from requests import Session, session\n",
    "from selenium import webdriver\n",
    "from selenium.common.exceptions import TimeoutException\n",
    "from selenium.webdriver.chrome.service import Service\n",
    "from selenium.webdriver.common.by import By\n",
    "from selenium.webdriver.support import expected_conditions as EC\n",
    "from selenium.webdriver.support.ui import WebDriverWait\n",
    "from tqdm import tqdm\n",
    "from webdriver_manager.firefox import GeckoDriverManager\n",
    "\n",
    "from src.db import ProductTable, SellerTable, SessionLocal, engine\n",
    "from src.parser.models import Product, Seller\n",
    "from src.parser.parser import parse_avito_page\n",
    "from src.parser.tools import get_ad_urls, get_photos"
   ]
  },
  {
   "cell_type": "markdown",
   "metadata": {},
   "source": [
    "### Константы"
   ]
  },
  {
   "cell_type": "code",
   "execution_count": 15,
   "metadata": {},
   "outputs": [],
   "source": [
    "URL_TEMPLATE = \"https://www.avito.ru/sankt-peterburg/telefony/mobilnye_telefony/apple-ASgBAgICAkS0wA3OqzmwwQ2I_Dc?p=\"\n",
    "PAUSE_DURATION_SECONDS = 2\n",
    "NUM_PAGES = 100\n",
    "product_columns = [\n",
    "'title', 'price', 'characteristics', \n",
    "'description', 'views', 'date',\n",
    "'location', 'link', 'seller_id', 'today_views'\n",
    ", 'about'\n",
    "]\n",
    "\n",
    "seller_columns = [\n",
    "    'seller_id', 'name', 'rating', 'reviews',\n",
    "    'subscribers', 'subscriptions', 'registered', \n",
    "    'done_deals', 'active_deals', 'docs_confirmed',\n",
    "    'phone_confirmed', 'response_time'\n",
    "]\n",
    "\n",
    "db_session = SessionLocal()\n",
    "# списки существующих ключей для того, чтобы лишний раз \n",
    "# не добавлять объявление/ продавца в таблицу\n",
    "product_ids = db_session.query(ProductTable.link).all()\n",
    "product_ids = [id[0] for id in product_ids]\n",
    "\n",
    "seller_ids = db_session.query(SellerTable.seller_id).all()\n",
    "seller_ids = [id[0] for id in seller_ids]"
   ]
  },
  {
   "cell_type": "markdown",
   "metadata": {},
   "source": [
    "### Запуск сервиса"
   ]
  },
  {
   "cell_type": "code",
   "execution_count": 16,
   "metadata": {},
   "outputs": [],
   "source": [
    "service = Service(GeckoDriverManager().install())\n",
    "\n",
    "# dont open browser\n",
    "options = webdriver.FirefoxOptions()\n",
    "options.add_argument('--headless')\n",
    "driver = webdriver.Firefox(service=service, options=options)"
   ]
  },
  {
   "cell_type": "markdown",
   "metadata": {},
   "source": [
    "### Максимальный номер сохраненной страницы  "
   ]
  },
  {
   "cell_type": "code",
   "execution_count": 17,
   "metadata": {},
   "outputs": [
    {
     "name": "stdout",
     "output_type": "stream",
     "text": [
      "Максимальный номер: 2\n",
      "Начнем парсинг со страницы номер: 3 (вкл)\n",
      "Закончим парсинг на странице номер: 103 (не вкл)\n"
     ]
    }
   ],
   "source": [
    "output_folder = \"data8\"\n",
    "os.makedirs(output_folder, exist_ok=True)\n",
    "\n",
    "# Получаем список всех файлов в папке\n",
    "files = os.listdir(output_folder)\n",
    "\n",
    "# Ищем файлы с расширением .csv и извлекаем числовые части\n",
    "numbers = []\n",
    "for file in files:\n",
    "    if file.endswith('.parquet'):\n",
    "        match = re.search(r'\\d+', file)\n",
    "        if match:\n",
    "            numbers.append(int(match.group()))\n",
    "\n",
    "# Находим максимальное число\n",
    "max_number = max(numbers) if numbers else None\n",
    "print(f\"Максимальный номер: {max_number}\")\n",
    "\n",
    "\n",
    "if not max_number: \n",
    "    start_page_number = 1\n",
    "else: \n",
    "    start_page_number = max_number + 1\n",
    "\n",
    "end_page_number = start_page_number + NUM_PAGES\n",
    "\n",
    "print(f\"Начнем парсинг со страницы номер: {start_page_number} (вкл)\")\n",
    "print(f\"Закончим парсинг на странице номер: {end_page_number} (не вкл)\")"
   ]
  },
  {
   "cell_type": "markdown",
   "metadata": {},
   "source": [
    "### Парсинг"
   ]
  },
  {
   "cell_type": "code",
   "execution_count": 18,
   "metadata": {},
   "outputs": [
    {
     "name": "stdout",
     "output_type": "stream",
     "text": [
      "Начали парсинг страницы # 0\n"
     ]
    },
    {
     "name": "stderr",
     "output_type": "stream",
     "text": [
      "  0%|          | 0/50 [00:00<?, ?it/s]"
     ]
    },
    {
     "name": "stdout",
     "output_type": "stream",
     "text": [
      "Объявление https://www.avito.ru/sankt-peterburg/telefony/iphone_16_pro_max_256_gb_4303039317 уже есть в базе, пропускаем...\n",
      "Объявление https://www.avito.ru/sankt-peterburg/telefony/iphone_15_128_gb_3447029599 уже есть в базе, пропускаем...\n"
     ]
    },
    {
     "name": "stderr",
     "output_type": "stream",
     "text": [
      "  6%|▌         | 3/50 [00:08<02:08,  2.74s/it]"
     ]
    },
    {
     "name": "stdout",
     "output_type": "stream",
     "text": [
      "Продавец /brands/i2137433 уже есть в базе, пропускаем...\n"
     ]
    },
    {
     "name": "stderr",
     "output_type": "stream",
     "text": [
      "  8%|▊         | 4/50 [00:13<02:49,  3.69s/it]"
     ]
    },
    {
     "name": "stdout",
     "output_type": "stream",
     "text": [
      "Продавец /brands/i2137433 уже есть в базе, пропускаем...\n"
     ]
    },
    {
     "name": "stderr",
     "output_type": "stream",
     "text": [
      " 14%|█▍        | 7/50 [01:33<10:28, 14.61s/it]"
     ]
    },
    {
     "name": "stdout",
     "output_type": "stream",
     "text": [
      "Продавец /brands/tehnomag уже есть в базе, пропускаем...\n"
     ]
    },
    {
     "name": "stderr",
     "output_type": "stream",
     "text": [
      " 16%|█▌        | 8/50 [01:40<08:36, 12.29s/it]"
     ]
    },
    {
     "name": "stdout",
     "output_type": "stream",
     "text": [
      "Продавец /brands/i2137433 уже есть в базе, пропускаем...\n"
     ]
    },
    {
     "name": "stderr",
     "output_type": "stream",
     "text": [
      " 18%|█▊        | 9/50 [01:49<07:48, 11.44s/it]"
     ]
    },
    {
     "name": "stdout",
     "output_type": "stream",
     "text": [
      "Произошла ошибка при обработке объявления https://www.avito.ru/sankt-peterburg/telefony/iphone_16_pro_max_256_gb_4411012908: 1 validation error for Product\n",
      "title\n",
      "  Input should be a valid string [type=string_type, input_value=None, input_type=NoneType]\n",
      "    For further information visit https://errors.pydantic.dev/2.10/v/string_type\n"
     ]
    },
    {
     "name": "stderr",
     "output_type": "stream",
     "text": [
      " 20%|██        | 10/50 [01:55<06:23,  9.58s/it]"
     ]
    },
    {
     "name": "stdout",
     "output_type": "stream",
     "text": [
      "Продавец /brands/tehnomag уже есть в базе, пропускаем...\n"
     ]
    },
    {
     "name": "stderr",
     "output_type": "stream",
     "text": [
      " 22%|██▏       | 11/50 [02:00<05:23,  8.30s/it]"
     ]
    },
    {
     "name": "stdout",
     "output_type": "stream",
     "text": [
      "Продавец /brands/i2137433 уже есть в базе, пропускаем...\n"
     ]
    },
    {
     "name": "stderr",
     "output_type": "stream",
     "text": [
      " 24%|██▍       | 12/50 [02:06<04:51,  7.67s/it]"
     ]
    },
    {
     "name": "stdout",
     "output_type": "stream",
     "text": [
      "Продавец /brands/i2137433 уже есть в базе, пропускаем...\n"
     ]
    },
    {
     "name": "stderr",
     "output_type": "stream",
     "text": [
      " 26%|██▌       | 13/50 [02:12<04:17,  6.96s/it]"
     ]
    },
    {
     "name": "stdout",
     "output_type": "stream",
     "text": [
      "Продавец /brands/tehnomag уже есть в базе, пропускаем...\n"
     ]
    },
    {
     "name": "stderr",
     "output_type": "stream",
     "text": [
      " 28%|██▊       | 14/50 [02:20<04:21,  7.27s/it]"
     ]
    },
    {
     "name": "stdout",
     "output_type": "stream",
     "text": [
      "Продавец /brands/ibox уже есть в базе, пропускаем...\n"
     ]
    },
    {
     "name": "stderr",
     "output_type": "stream",
     "text": [
      " 30%|███       | 15/50 [02:29<04:39,  7.99s/it]"
     ]
    },
    {
     "name": "stdout",
     "output_type": "stream",
     "text": [
      "Продавец /brands/i2137433 уже есть в базе, пропускаем...\n"
     ]
    },
    {
     "name": "stderr",
     "output_type": "stream",
     "text": [
      " 32%|███▏      | 16/50 [02:36<04:23,  7.75s/it]"
     ]
    },
    {
     "name": "stdout",
     "output_type": "stream",
     "text": [
      "Продавец /brands/i2137433 уже есть в базе, пропускаем...\n"
     ]
    },
    {
     "name": "stderr",
     "output_type": "stream",
     "text": [
      " 38%|███▊      | 19/50 [03:04<04:23,  8.50s/it]"
     ]
    },
    {
     "name": "stdout",
     "output_type": "stream",
     "text": [
      "Продавец /brands/tehnomag уже есть в базе, пропускаем...\n"
     ]
    },
    {
     "name": "stderr",
     "output_type": "stream",
     "text": [
      " 42%|████▏     | 21/50 [03:21<04:08,  8.57s/it]"
     ]
    },
    {
     "name": "stdout",
     "output_type": "stream",
     "text": [
      "Продавец /brands/tehnomag уже есть в базе, пропускаем...\n"
     ]
    },
    {
     "name": "stderr",
     "output_type": "stream",
     "text": [
      " 46%|████▌     | 23/50 [03:43<04:18,  9.57s/it]"
     ]
    },
    {
     "name": "stdout",
     "output_type": "stream",
     "text": [
      "Продавец /brands/tehnomag уже есть в базе, пропускаем...\n"
     ]
    },
    {
     "name": "stderr",
     "output_type": "stream",
     "text": [
      " 48%|████▊     | 24/50 [03:52<04:02,  9.35s/it]"
     ]
    },
    {
     "name": "stdout",
     "output_type": "stream",
     "text": [
      "Продавец /brands/i2137433 уже есть в базе, пропускаем...\n"
     ]
    },
    {
     "name": "stderr",
     "output_type": "stream",
     "text": [
      " 54%|█████▍    | 27/50 [04:16<03:25,  8.92s/it]"
     ]
    },
    {
     "name": "stdout",
     "output_type": "stream",
     "text": [
      "Продавец /brands/i2137433 уже есть в базе, пропускаем...\n"
     ]
    },
    {
     "name": "stderr",
     "output_type": "stream",
     "text": [
      " 56%|█████▌    | 28/50 [04:25<03:17,  8.96s/it]"
     ]
    },
    {
     "name": "stdout",
     "output_type": "stream",
     "text": [
      "Продавец /brands/tehnomag уже есть в базе, пропускаем...\n"
     ]
    },
    {
     "name": "stderr",
     "output_type": "stream",
     "text": [
      " 58%|█████▊    | 29/50 [04:34<03:13,  9.23s/it]"
     ]
    },
    {
     "name": "stdout",
     "output_type": "stream",
     "text": [
      "Продавец /brands/tehnomag уже есть в базе, пропускаем...\n"
     ]
    },
    {
     "name": "stderr",
     "output_type": "stream",
     "text": [
      " 60%|██████    | 30/50 [05:03<04:58, 14.90s/it]"
     ]
    },
    {
     "name": "stdout",
     "output_type": "stream",
     "text": [
      "Произошла ошибка при обработке объявления https://www.avito.ru/sankt-peterburg/telefony/iphone_15_pro_max_256_gb_3995111042: 1 validation error for Product\n",
      "title\n",
      "  Input should be a valid string [type=string_type, input_value=None, input_type=NoneType]\n",
      "    For further information visit https://errors.pydantic.dev/2.10/v/string_type\n"
     ]
    },
    {
     "name": "stderr",
     "output_type": "stream",
     "text": [
      " 62%|██████▏   | 31/50 [05:13<04:17, 13.56s/it]"
     ]
    },
    {
     "name": "stdout",
     "output_type": "stream",
     "text": [
      "Продавец /brands/tehnomag уже есть в базе, пропускаем...\n"
     ]
    },
    {
     "name": "stderr",
     "output_type": "stream",
     "text": [
      " 64%|██████▍   | 32/50 [05:25<03:53, 12.97s/it]"
     ]
    },
    {
     "name": "stdout",
     "output_type": "stream",
     "text": [
      "Продавец /brands/tehnomag уже есть в базе, пропускаем...\n"
     ]
    },
    {
     "name": "stderr",
     "output_type": "stream",
     "text": [
      " 66%|██████▌   | 33/50 [05:38<03:43, 13.17s/it]"
     ]
    },
    {
     "name": "stdout",
     "output_type": "stream",
     "text": [
      "Продавец /brands/tehnomag уже есть в базе, пропускаем...\n"
     ]
    },
    {
     "name": "stderr",
     "output_type": "stream",
     "text": [
      " 68%|██████▊   | 34/50 [05:52<03:35, 13.48s/it]"
     ]
    },
    {
     "name": "stdout",
     "output_type": "stream",
     "text": [
      "Продавец /brands/i146938103 уже есть в базе, пропускаем...\n"
     ]
    },
    {
     "name": "stderr",
     "output_type": "stream",
     "text": [
      " 70%|███████   | 35/50 [06:19<04:23, 17.54s/it]"
     ]
    },
    {
     "name": "stdout",
     "output_type": "stream",
     "text": [
      "Продавец /brands/i59503469 уже есть в базе, пропускаем...\n"
     ]
    },
    {
     "name": "stderr",
     "output_type": "stream",
     "text": [
      " 74%|███████▍  | 37/50 [07:20<05:12, 24.03s/it]"
     ]
    },
    {
     "name": "stdout",
     "output_type": "stream",
     "text": [
      "Продавец /brands/i2359392 уже есть в базе, пропускаем...\n"
     ]
    },
    {
     "name": "stderr",
     "output_type": "stream",
     "text": [
      " 76%|███████▌  | 38/50 [07:36<04:21, 21.76s/it]"
     ]
    },
    {
     "name": "stdout",
     "output_type": "stream",
     "text": [
      "Продавец /brands/i59503469 уже есть в базе, пропускаем...\n"
     ]
    },
    {
     "name": "stderr",
     "output_type": "stream",
     "text": [
      " 78%|███████▊  | 39/50 [07:49<03:30, 19.10s/it]"
     ]
    },
    {
     "name": "stdout",
     "output_type": "stream",
     "text": [
      "Продавец /brands/i2137433 уже есть в базе, пропускаем...\n"
     ]
    },
    {
     "name": "stderr",
     "output_type": "stream",
     "text": [
      " 80%|████████  | 40/50 [08:23<03:54, 23.47s/it]"
     ]
    },
    {
     "name": "stdout",
     "output_type": "stream",
     "text": [
      "Продавец /brands/i183466761 уже есть в базе, пропускаем...\n"
     ]
    },
    {
     "name": "stderr",
     "output_type": "stream",
     "text": [
      " 84%|████████▍ | 42/50 [08:54<02:28, 18.55s/it]"
     ]
    },
    {
     "name": "stdout",
     "output_type": "stream",
     "text": [
      "Продавец /brands/tehnomag уже есть в базе, пропускаем...\n"
     ]
    },
    {
     "name": "stderr",
     "output_type": "stream",
     "text": [
      " 86%|████████▌ | 43/50 [09:14<02:13, 19.08s/it]"
     ]
    },
    {
     "name": "stdout",
     "output_type": "stream",
     "text": [
      "Продавец /brands/tehnomag уже есть в базе, пропускаем...\n"
     ]
    },
    {
     "name": "stderr",
     "output_type": "stream",
     "text": [
      " 88%|████████▊ | 44/50 [10:10<02:59, 29.99s/it]"
     ]
    },
    {
     "name": "stdout",
     "output_type": "stream",
     "text": [
      "Продавец /brands/ibox уже есть в базе, пропускаем...\n"
     ]
    },
    {
     "name": "stderr",
     "output_type": "stream",
     "text": [
      " 90%|█████████ | 45/50 [10:46<02:38, 31.78s/it]"
     ]
    },
    {
     "name": "stdout",
     "output_type": "stream",
     "text": [
      "Продавец /brands/i59503469 уже есть в базе, пропускаем...\n"
     ]
    },
    {
     "name": "stderr",
     "output_type": "stream",
     "text": [
      " 92%|█████████▏| 46/50 [11:12<02:01, 30.32s/it]"
     ]
    },
    {
     "name": "stdout",
     "output_type": "stream",
     "text": [
      "Продавец /brands/i137588249 уже есть в базе, пропускаем...\n"
     ]
    },
    {
     "name": "stderr",
     "output_type": "stream",
     "text": [
      " 94%|█████████▍| 47/50 [11:59<01:45, 35.21s/it]"
     ]
    },
    {
     "name": "stdout",
     "output_type": "stream",
     "text": [
      "Продавец /brands/ibox уже есть в базе, пропускаем...\n"
     ]
    },
    {
     "name": "stderr",
     "output_type": "stream",
     "text": [
      " 96%|█████████▌| 48/50 [12:31<01:08, 34.37s/it]"
     ]
    },
    {
     "name": "stdout",
     "output_type": "stream",
     "text": [
      "Продавец /brands/i59503469 уже есть в базе, пропускаем...\n"
     ]
    },
    {
     "name": "stderr",
     "output_type": "stream",
     "text": [
      " 98%|█████████▊| 49/50 [13:09<00:35, 35.35s/it]"
     ]
    },
    {
     "name": "stdout",
     "output_type": "stream",
     "text": [
      "Продавец /brands/tehnomag уже есть в базе, пропускаем...\n"
     ]
    },
    {
     "name": "stderr",
     "output_type": "stream",
     "text": [
      "100%|██████████| 50/50 [13:58<00:00, 16.76s/it]"
     ]
    },
    {
     "name": "stdout",
     "output_type": "stream",
     "text": [
      "Продавец /brands/i137588249 уже есть в базе, пропускаем...\n",
      "Начали парсинг страницы # 1\n"
     ]
    },
    {
     "name": "stderr",
     "output_type": "stream",
     "text": [
      "\n",
      "  0%|          | 0/50 [00:00<?, ?it/s]"
     ]
    },
    {
     "name": "stdout",
     "output_type": "stream",
     "text": [
      "Объявление https://www.avito.ru/sankt-peterburg/telefony/iphone_16_pro_max_256_gb_4246823695 уже есть в базе, пропускаем...\n",
      "Объявление https://www.avito.ru/sankt-peterburg/telefony/iphone_16_pro_max_256_gb_4303039317 уже есть в базе, пропускаем...\n",
      "Объявление https://www.avito.ru/sankt-peterburg/telefony/iphone_15_128_gb_3447029599 уже есть в базе, пропускаем...\n",
      "Объявление https://www.avito.ru/sankt-peterburg/telefony/iphone_16_256_gb_4247178275 уже есть в базе, пропускаем...\n",
      "Объявление https://www.avito.ru/sankt-peterburg/telefony/iphone_13_mini_128_gb_4401092745 уже есть в базе, пропускаем...\n",
      "Объявление https://www.avito.ru/sankt-peterburg/telefony/iphone_13_128_gb_4400792905 уже есть в базе, пропускаем...\n"
     ]
    },
    {
     "name": "stderr",
     "output_type": "stream",
     "text": [
      " 14%|█▍        | 7/50 [00:52<05:20,  7.45s/it]"
     ]
    },
    {
     "name": "stdout",
     "output_type": "stream",
     "text": [
      "Продавец /brands/i137588249 уже есть в базе, пропускаем...\n"
     ]
    },
    {
     "name": "stderr",
     "output_type": "stream",
     "text": [
      " 16%|█▌        | 8/50 [02:11<13:44, 19.64s/it]"
     ]
    },
    {
     "name": "stdout",
     "output_type": "stream",
     "text": [
      "Произошла ошибка при обработке объявления https://www.avito.ru/sankt-peterburg/telefony/iphone_16_pro_max_256_gb_4411012908: 1 validation error for Product\n",
      "title\n",
      "  Input should be a valid string [type=string_type, input_value=None, input_type=NoneType]\n",
      "    For further information visit https://errors.pydantic.dev/2.10/v/string_type\n",
      "Объявление https://www.avito.ru/sankt-peterburg/telefony/iphone_16_pro_max_512_gb_4247440382 уже есть в базе, пропускаем...\n",
      "Объявление https://www.avito.ru/sankt-peterburg/telefony/iphone_16_pro_max_256_gb_4382271499 уже есть в базе, пропускаем...\n",
      "Объявление https://www.avito.ru/sankt-peterburg/telefony/iphone_16_128_gb_4246767841 уже есть в базе, пропускаем...\n",
      "Объявление https://www.avito.ru/sankt-peterburg/telefony/iphone_14_128_gb_2551681727 уже есть в базе, пропускаем...\n"
     ]
    },
    {
     "name": "stderr",
     "output_type": "stream",
     "text": [
      " 24%|██▍       | 12/50 [02:35<08:12, 12.95s/it]\n"
     ]
    },
    {
     "ename": "KeyboardInterrupt",
     "evalue": "",
     "output_type": "error",
     "traceback": [
      "\u001b[0;31m---------------------------------------------------------------------------\u001b[0m",
      "\u001b[0;31mKeyboardInterrupt\u001b[0m                         Traceback (most recent call last)",
      "Cell \u001b[0;32mIn[18], line 31\u001b[0m\n\u001b[1;32m     28\u001b[0m time\u001b[38;5;241m.\u001b[39msleep(PAUSE_DURATION_SECONDS)  \u001b[38;5;66;03m# Задержка для полной загрузки\u001b[39;00m\n\u001b[1;32m     30\u001b[0m \u001b[38;5;66;03m# Парсим данные на странице объявления (название, цена, фото, описание и т.д.)\u001b[39;00m\n\u001b[0;32m---> 31\u001b[0m ad_data, seller_data \u001b[38;5;241m=\u001b[39m \u001b[43mparse_avito_page\u001b[49m\u001b[43m(\u001b[49m\u001b[43mdriver\u001b[49m\u001b[38;5;241;43m=\u001b[39;49m\u001b[43mdriver\u001b[49m\u001b[43m)\u001b[49m \u001b[38;5;66;03m# <- словарик \u001b[39;00m\n\u001b[1;32m     32\u001b[0m ad_data[\u001b[38;5;124m'\u001b[39m\u001b[38;5;124mlink\u001b[39m\u001b[38;5;124m'\u001b[39m] \u001b[38;5;241m=\u001b[39m link\n\u001b[1;32m     33\u001b[0m \u001b[38;5;66;03m# ad_data['photo'] = get_photos(driver=driver, cnt=5)\u001b[39;00m\n\u001b[1;32m     34\u001b[0m \n\u001b[1;32m     35\u001b[0m \u001b[38;5;66;03m# Validate with Pydantic\u001b[39;00m\n",
      "File \u001b[0;32m~/Desktop/AvitoPhoneInsights/src/parser/../../src/parser/parser.py:101\u001b[0m, in \u001b[0;36mparse_avito_page\u001b[0;34m(driver)\u001b[0m\n\u001b[1;32m     99\u001b[0m driver\u001b[38;5;241m.\u001b[39mget(seller_link)\n\u001b[1;32m    100\u001b[0m time\u001b[38;5;241m.\u001b[39msleep(PAUSE_DURATION_SECONDS)\n\u001b[0;32m--> 101\u001b[0m seller_data \u001b[38;5;241m=\u001b[39m \u001b[43mparse_seller_page\u001b[49m\u001b[43m(\u001b[49m\u001b[43mdriver\u001b[49m\u001b[43m)\u001b[49m\n\u001b[1;32m    102\u001b[0m seller_id \u001b[38;5;241m=\u001b[39m re\u001b[38;5;241m.\u001b[39msearch(\u001b[38;5;124mr\u001b[39m\u001b[38;5;124m'\u001b[39m\u001b[38;5;124m\\\u001b[39m\u001b[38;5;124m/brands\u001b[39m\u001b[38;5;124m\\\u001b[39m\u001b[38;5;124m/\u001b[39m\u001b[38;5;124m\\\u001b[39m\u001b[38;5;124mw+\u001b[39m\u001b[38;5;124m'\u001b[39m, seller_link)\u001b[38;5;241m.\u001b[39mgroup()\n\u001b[1;32m    103\u001b[0m seller_data[\u001b[38;5;124m'\u001b[39m\u001b[38;5;124mseller_id\u001b[39m\u001b[38;5;124m'\u001b[39m] \u001b[38;5;241m=\u001b[39m seller_id \n",
      "File \u001b[0;32m~/Desktop/AvitoPhoneInsights/src/parser/../../src/parser/parser.py:144\u001b[0m, in \u001b[0;36mparse_seller_page\u001b[0;34m(driver)\u001b[0m\n\u001b[1;32m    142\u001b[0m     show_more_button \u001b[38;5;241m=\u001b[39m driver\u001b[38;5;241m.\u001b[39mfind_element(By\u001b[38;5;241m.\u001b[39mCLASS_NAME, \u001b[38;5;124m\"\u001b[39m\u001b[38;5;124mCollapse-module-showMoreButton-EuQUL\u001b[39m\u001b[38;5;124m\"\u001b[39m)\n\u001b[1;32m    143\u001b[0m     show_more_button\u001b[38;5;241m.\u001b[39mclick()\n\u001b[0;32m--> 144\u001b[0m     \u001b[43mtime\u001b[49m\u001b[38;5;241;43m.\u001b[39;49m\u001b[43msleep\u001b[49m\u001b[43m(\u001b[49m\u001b[43mPAUSE_DURATION_SECONDS\u001b[49m\u001b[43m)\u001b[49m\n\u001b[1;32m    145\u001b[0m \u001b[38;5;28;01mexcept\u001b[39;00m \u001b[38;5;167;01mException\u001b[39;00m:\n\u001b[1;32m    146\u001b[0m     \u001b[38;5;28;01mpass\u001b[39;00m\n",
      "\u001b[0;31mKeyboardInterrupt\u001b[0m: "
     ]
    }
   ],
   "source": [
    "for page_num in range(start_page_number, end_page_number):\n",
    "    \n",
    "    print(f\"Начали парсинг страницы # {page_num}\")\n",
    "\n",
    "    df_page = pd.DataFrame(columns=product_columns)\n",
    "    df_seller = pd.DataFrame(columns=seller_columns)\n",
    "\n",
    "    try:\n",
    "        # Загрузка страницы с объявлениями\n",
    "        url = URL_TEMPLATE + str(page_num)\n",
    "        driver.get(url)\n",
    "        time.sleep(PAUSE_DURATION_SECONDS)\n",
    "\n",
    "        # Получаем HTML-код страницы\n",
    "        page_source = driver.page_source\n",
    "        soup = BeautifulSoup(page_source, 'html.parser')\n",
    "  \n",
    "        # Извлекаем ссылки на объявления на текущей странице\n",
    "        links = get_ad_urls(soup)\n",
    "\n",
    "        for link in tqdm(links):\n",
    "            if link in product_ids:\n",
    "                continue\n",
    "            try:\n",
    "                # Переход на страницу объявления\n",
    "                driver.get(link)\n",
    "                time.sleep(PAUSE_DURATION_SECONDS)  # Задержка для полной загрузки\n",
    "\n",
    "                # Парсим данные на странице объявления (название, цена, фото, описание и т.д.)\n",
    "                ad_data, seller_data = parse_avito_page(driver=driver) # <- словарик \n",
    "                ad_data['link'] = link\n",
    "                # ad_data['photo'] = get_photos(driver=driver, cnt=5)\n",
    "\n",
    "                # валидация используя Pydantic\n",
    "                product = Product.model_validate(ad_data)\n",
    "                seller = Seller.model_validate(seller_data)\n",
    "\n",
    "                product_ids.append(link)\n",
    "                db_session.add(ProductTable(**product.model_dump()))\n",
    "                df_page = pd.concat([df_page, pd.DataFrame([ad_data])], ignore_index=True)\n",
    "                # проверка на отсутствие продавца в таблице\n",
    "                if seller_data['seller_id'] not in seller_ids:\n",
    "                    seller_ids.append(seller_data['seller_id'])\n",
    "                    db_session.add(SellerTable(**seller.model_dump()))\n",
    "                    df_seller = pd.concat([df_seller, pd.DataFrame([seller_data])], ignore_index=True)\n",
    "            except TimeoutException:\n",
    "                print(f\"Ошибка: объявление {link} не загрузилось, пропускаем...\")\n",
    "                continue\n",
    "            except Exception as e:\n",
    "                print(f\"Произошла ошибка при обработке объявления {link}: {e}\")\n",
    "                continue\n",
    "        \n",
    "        db_session.commit()\n",
    "        # Сохраняем данные для текущей страницы в DataFrame\n",
    "        df_page.to_parquet(f'{output_folder}/phones_data_page_{page_num}.parquet')\n",
    "        df_seller.to_parquet(f'{output_folder}/sellers_data_page_{page_num}.parquet')\n",
    "    except TimeoutException:\n",
    "        print(f\"Ошибка: страница {page_num} не загрузилась, пропускаем...\")\n",
    "        continue\n",
    "    except Exception as e:\n",
    "        print(f\"Произошла ошибка на странице {page_num}: {e}\")\n",
    "        continue\n",
    "\n",
    "db_session.close()\n",
    "\n"
   ]
  },
  {
   "cell_type": "code",
   "execution_count": 19,
   "metadata": {},
   "outputs": [],
   "source": [
    "driver.quit()"
   ]
  },
  {
   "cell_type": "code",
   "execution_count": 29,
   "metadata": {},
   "outputs": [
    {
     "data": {
      "text/html": [
       "<div>\n",
       "<style scoped>\n",
       "    .dataframe tbody tr th:only-of-type {\n",
       "        vertical-align: middle;\n",
       "    }\n",
       "\n",
       "    .dataframe tbody tr th {\n",
       "        vertical-align: top;\n",
       "    }\n",
       "\n",
       "    .dataframe thead th {\n",
       "        text-align: right;\n",
       "    }\n",
       "</style>\n",
       "<table border=\"1\" class=\"dataframe\">\n",
       "  <thead>\n",
       "    <tr style=\"text-align: right;\">\n",
       "      <th></th>\n",
       "      <th>seller_id</th>\n",
       "      <th>name</th>\n",
       "      <th>rating</th>\n",
       "      <th>reviews</th>\n",
       "      <th>subscribers</th>\n",
       "      <th>subscriptions</th>\n",
       "      <th>registered</th>\n",
       "      <th>done_deals</th>\n",
       "      <th>active_deals</th>\n",
       "      <th>docs_confirmed</th>\n",
       "      <th>phone_confirmed</th>\n",
       "      <th>response_time</th>\n",
       "    </tr>\n",
       "  </thead>\n",
       "  <tbody>\n",
       "    <tr>\n",
       "      <th>0</th>\n",
       "      <td>/brands/tehnomag</td>\n",
       "      <td>Техномаг</td>\n",
       "      <td>4.9</td>\n",
       "      <td>145</td>\n",
       "      <td>425</td>\n",
       "      <td>0</td>\n",
       "      <td>На Авито с ноября 2023</td>\n",
       "      <td>0</td>\n",
       "      <td>276</td>\n",
       "      <td>True</td>\n",
       "      <td>True</td>\n",
       "      <td>Отвечает за несколько часов</td>\n",
       "    </tr>\n",
       "    <tr>\n",
       "      <th>1</th>\n",
       "      <td>/brands/i137588249</td>\n",
       "      <td>Texno Yard</td>\n",
       "      <td>5.0</td>\n",
       "      <td>1652</td>\n",
       "      <td>3</td>\n",
       "      <td>764</td>\n",
       "      <td>На Авито с июня 2018</td>\n",
       "      <td>134</td>\n",
       "      <td>162</td>\n",
       "      <td>False</td>\n",
       "      <td>True</td>\n",
       "      <td>None</td>\n",
       "    </tr>\n",
       "    <tr>\n",
       "      <th>2</th>\n",
       "      <td>/brands/i59503469</td>\n",
       "      <td>MIRAPHONE - Центр Скупки</td>\n",
       "      <td>4.8</td>\n",
       "      <td>1077</td>\n",
       "      <td>8</td>\n",
       "      <td>473</td>\n",
       "      <td>На Авито с сентября 2014</td>\n",
       "      <td>51</td>\n",
       "      <td>473</td>\n",
       "      <td>True</td>\n",
       "      <td>True</td>\n",
       "      <td>Отвечает около 30 минут</td>\n",
       "    </tr>\n",
       "    <tr>\n",
       "      <th>3</th>\n",
       "      <td>/brands/i2359392</td>\n",
       "      <td>WORLD-DEVICES</td>\n",
       "      <td>5.0</td>\n",
       "      <td>2573</td>\n",
       "      <td>6</td>\n",
       "      <td>710</td>\n",
       "      <td>На Авито с февраля 2011</td>\n",
       "      <td>591</td>\n",
       "      <td>341</td>\n",
       "      <td>True</td>\n",
       "      <td>True</td>\n",
       "      <td>Отвечает около часа</td>\n",
       "    </tr>\n",
       "    <tr>\n",
       "      <th>4</th>\n",
       "      <td>/brands/i146938103</td>\n",
       "      <td>Дом Мобайл</td>\n",
       "      <td>5.0</td>\n",
       "      <td>1435</td>\n",
       "      <td>728</td>\n",
       "      <td>3</td>\n",
       "      <td>На Авито с октября 2018</td>\n",
       "      <td>376</td>\n",
       "      <td>83</td>\n",
       "      <td>False</td>\n",
       "      <td>True</td>\n",
       "      <td>Отвечает около 30 минут</td>\n",
       "    </tr>\n",
       "  </tbody>\n",
       "</table>\n",
       "</div>"
      ],
      "text/plain": [
       "            seller_id                      name rating reviews subscribers  \\\n",
       "0    /brands/tehnomag                  Техномаг    4.9     145         425   \n",
       "1  /brands/i137588249                Texno Yard    5.0    1652           3   \n",
       "2   /brands/i59503469  MIRAPHONE - Центр Скупки    4.8    1077           8   \n",
       "3    /brands/i2359392             WORLD-DEVICES    5.0    2573           6   \n",
       "4  /brands/i146938103                Дом Мобайл    5.0    1435         728   \n",
       "\n",
       "  subscriptions                registered done_deals active_deals  \\\n",
       "0             0    На Авито с ноября 2023          0          276   \n",
       "1           764      На Авито с июня 2018        134          162   \n",
       "2           473  На Авито с сентября 2014         51          473   \n",
       "3           710   На Авито с февраля 2011        591          341   \n",
       "4             3   На Авито с октября 2018        376           83   \n",
       "\n",
       "   docs_confirmed  phone_confirmed                response_time  \n",
       "0            True             True  Отвечает за несколько часов  \n",
       "1           False             True                         None  \n",
       "2            True             True      Отвечает около 30 минут  \n",
       "3            True             True          Отвечает около часа  \n",
       "4           False             True      Отвечает около 30 минут  "
      ]
     },
     "execution_count": 29,
     "metadata": {},
     "output_type": "execute_result"
    }
   ],
   "source": [
    "# read data from parquet files\n",
    "data = []\n",
    "for file in os.listdir(output_folder):\n",
    "    if file.endswith('.parquet'):\n",
    "        df = pd.read_parquet(f'{output_folder}/{file}')\n",
    "        data.append(df)\n",
    "\n",
    "# get parquet files in \n",
    "data[3].head()\n"
   ]
  },
  {
   "cell_type": "code",
   "execution_count": null,
   "metadata": {},
   "outputs": [],
   "source": []
  }
 ],
 "metadata": {
  "kernelspec": {
   "display_name": ".venv",
   "language": "python",
   "name": "python3"
  },
  "language_info": {
   "codemirror_mode": {
    "name": "ipython",
    "version": 3
   },
   "file_extension": ".py",
   "mimetype": "text/x-python",
   "name": "python",
   "nbconvert_exporter": "python",
   "pygments_lexer": "ipython3",
   "version": "3.13.1"
  }
 },
 "nbformat": 4,
 "nbformat_minor": 2
}
